{
 "cells": [
  {
   "cell_type": "markdown",
   "id": "9b7b1b9f",
   "metadata": {},
   "source": [
    "# Extraction"
   ]
  },
  {
   "cell_type": "code",
   "execution_count": 1,
   "id": "5780ff2e",
   "metadata": {},
   "outputs": [
    {
     "data": {
      "text/html": [
       "<div>\n",
       "<style scoped>\n",
       "    .dataframe tbody tr th:only-of-type {\n",
       "        vertical-align: middle;\n",
       "    }\n",
       "\n",
       "    .dataframe tbody tr th {\n",
       "        vertical-align: top;\n",
       "    }\n",
       "\n",
       "    .dataframe thead th {\n",
       "        text-align: right;\n",
       "    }\n",
       "</style>\n",
       "<table border=\"1\" class=\"dataframe\">\n",
       "  <thead>\n",
       "    <tr style=\"text-align: right;\">\n",
       "      <th></th>\n",
       "      <th>time</th>\n",
       "      <th>temperature</th>\n",
       "      <th>precipitation</th>\n",
       "    </tr>\n",
       "  </thead>\n",
       "  <tbody>\n",
       "    <tr>\n",
       "      <th>0</th>\n",
       "      <td>2012-01-01T00:00</td>\n",
       "      <td>1.3</td>\n",
       "      <td>0.0</td>\n",
       "    </tr>\n",
       "    <tr>\n",
       "      <th>1</th>\n",
       "      <td>2012-01-01T01:00</td>\n",
       "      <td>1.1</td>\n",
       "      <td>0.0</td>\n",
       "    </tr>\n",
       "    <tr>\n",
       "      <th>2</th>\n",
       "      <td>2012-01-01T02:00</td>\n",
       "      <td>0.9</td>\n",
       "      <td>0.0</td>\n",
       "    </tr>\n",
       "  </tbody>\n",
       "</table>\n",
       "</div>"
      ],
      "text/plain": [
       "               time  temperature  precipitation\n",
       "0  2012-01-01T00:00          1.3            0.0\n",
       "1  2012-01-01T01:00          1.1            0.0\n",
       "2  2012-01-01T02:00          0.9            0.0"
      ]
     },
     "execution_count": 1,
     "metadata": {},
     "output_type": "execute_result"
    }
   ],
   "source": [
    "import pandas as pd\n",
    "import matplotlib.pyplot as plt\n",
    "import util\n",
    "\n",
    "# Data extraction of weather data from open-meteo free API, no need to sign up\n",
    "openMeteoURL = \"https://archive-api.open-meteo.com/v1/era5\"\n",
    "\n",
    "# Rome geographical coordinates\n",
    "latitude = 41.9027\n",
    "longitude = 12.4963\n",
    "# We are going to exctract 10 years of weather data between the following time interal:\n",
    "start_date = \"2012-01-01\"\n",
    "end_date = \"2022-12-31\"\n",
    "\n",
    "# The function below converts the JSON data into a Pandas Dataframe\n",
    "# For this project we are going to analyze the temperature and precipitation data\n",
    "dfWeather = util.get_json_data(openMeteoURL, latitude, longitude, start_date, end_date)\n",
    "\n",
    "dfWeather.head(3)"
   ]
  },
  {
   "cell_type": "markdown",
   "id": "1c71c40a",
   "metadata": {},
   "source": [
    "# Transformation"
   ]
  },
  {
   "cell_type": "markdown",
   "id": "fc85e4e6",
   "metadata": {},
   "source": [
    "# 1. Finding the max temperature reached for each summer"
   ]
  },
  {
   "cell_type": "code",
   "execution_count": 2,
   "id": "3dbd36ef",
   "metadata": {},
   "outputs": [],
   "source": [
    "# In order to convert the time column from string to datetime we can use a UDF, then drop the old string column\n",
    "dfWeather[\"time_converted\"] = dfWeather[\"time\"].apply(util.convert_to_datetime)"
   ]
  },
  {
   "cell_type": "code",
   "execution_count": 3,
   "id": "8a03b8d9",
   "metadata": {},
   "outputs": [
    {
     "data": {
      "text/html": [
       "<div>\n",
       "<style scoped>\n",
       "    .dataframe tbody tr th:only-of-type {\n",
       "        vertical-align: middle;\n",
       "    }\n",
       "\n",
       "    .dataframe tbody tr th {\n",
       "        vertical-align: top;\n",
       "    }\n",
       "\n",
       "    .dataframe thead th {\n",
       "        text-align: right;\n",
       "    }\n",
       "</style>\n",
       "<table border=\"1\" class=\"dataframe\">\n",
       "  <thead>\n",
       "    <tr style=\"text-align: right;\">\n",
       "      <th></th>\n",
       "      <th>temperature</th>\n",
       "      <th>precipitation</th>\n",
       "      <th>time</th>\n",
       "    </tr>\n",
       "  </thead>\n",
       "  <tbody>\n",
       "    <tr>\n",
       "      <th>0</th>\n",
       "      <td>1.3</td>\n",
       "      <td>0.0</td>\n",
       "      <td>2012-01-01 00:00:00</td>\n",
       "    </tr>\n",
       "    <tr>\n",
       "      <th>1</th>\n",
       "      <td>1.1</td>\n",
       "      <td>0.0</td>\n",
       "      <td>2012-01-01 01:00:00</td>\n",
       "    </tr>\n",
       "    <tr>\n",
       "      <th>2</th>\n",
       "      <td>0.9</td>\n",
       "      <td>0.0</td>\n",
       "      <td>2012-01-01 02:00:00</td>\n",
       "    </tr>\n",
       "  </tbody>\n",
       "</table>\n",
       "</div>"
      ],
      "text/plain": [
       "   temperature  precipitation                time\n",
       "0          1.3            0.0 2012-01-01 00:00:00\n",
       "1          1.1            0.0 2012-01-01 01:00:00\n",
       "2          0.9            0.0 2012-01-01 02:00:00"
      ]
     },
     "execution_count": 3,
     "metadata": {},
     "output_type": "execute_result"
    }
   ],
   "source": [
    "# Drop the old column time and rename the new one\n",
    "dfWeather = dfWeather.drop(\"time\", axis=1)\n",
    "dfWeather.rename(columns={'time_converted': 'time'}, inplace=True)\n",
    "dfWeather.head(3)"
   ]
  },
  {
   "cell_type": "code",
   "execution_count": 4,
   "id": "9b32d605",
   "metadata": {},
   "outputs": [
    {
     "data": {
      "text/html": [
       "<div>\n",
       "<style scoped>\n",
       "    .dataframe tbody tr th:only-of-type {\n",
       "        vertical-align: middle;\n",
       "    }\n",
       "\n",
       "    .dataframe tbody tr th {\n",
       "        vertical-align: top;\n",
       "    }\n",
       "\n",
       "    .dataframe thead th {\n",
       "        text-align: right;\n",
       "    }\n",
       "</style>\n",
       "<table border=\"1\" class=\"dataframe\">\n",
       "  <thead>\n",
       "    <tr style=\"text-align: right;\">\n",
       "      <th></th>\n",
       "      <th>temperature</th>\n",
       "    </tr>\n",
       "    <tr>\n",
       "      <th>year</th>\n",
       "      <th></th>\n",
       "    </tr>\n",
       "  </thead>\n",
       "  <tbody>\n",
       "    <tr>\n",
       "      <th>2022</th>\n",
       "      <td>36.7</td>\n",
       "    </tr>\n",
       "    <tr>\n",
       "      <th>2021</th>\n",
       "      <td>36.6</td>\n",
       "    </tr>\n",
       "    <tr>\n",
       "      <th>2020</th>\n",
       "      <td>36.2</td>\n",
       "    </tr>\n",
       "  </tbody>\n",
       "</table>\n",
       "</div>"
      ],
      "text/plain": [
       "      temperature\n",
       "year             \n",
       "2022         36.7\n",
       "2021         36.6\n",
       "2020         36.2"
      ]
     },
     "execution_count": 4,
     "metadata": {},
     "output_type": "execute_result"
    }
   ],
   "source": [
    "# As first analysis, we want to find the max temperature registered for each summer during the years,\n",
    "# For semplicity we define the following time intervals for each season:\n",
    "# Spring (march, april, may), Summer (june, july, august), \n",
    "# Autumn (september, october, november), Winter (december, january, february)\n",
    "\n",
    "dfSummer = dfWeather \\\n",
    "            .where((dfWeather[\"time\"].dt.month >= 6) & (dfWeather[\"time\"].dt.month <= 8)) \\\n",
    "            .groupby(dfWeather[\"time\"].dt.year) \\\n",
    "            .agg( {\"temperature\":\"max\"} ) \\\n",
    "            .rename_axis([\"year\"]) \\\n",
    "            .sort_values(by = \"year\", ascending = False)\n",
    "\n",
    "dfSummer.head(3)"
   ]
  },
  {
   "cell_type": "code",
   "execution_count": 5,
   "id": "5eef96f0",
   "metadata": {},
   "outputs": [
    {
     "data": {
      "image/png": "[encoded data removed]",
      "text/plain": [
       "<Figure size 800x300 with 1 Axes>"
      ]
     },
     "metadata": {},
     "output_type": "display_data"
    }
   ],
   "source": [
    "# Initialize and set the chart size\n",
    "plt.figure(figsize=(8, 3))\n",
    "\n",
    "# Create the line chart using the Dataframe index (year) and values (max temperature of each year)\n",
    "plt.plot(dfSummer.index, dfSummer.values, marker='o')\n",
    "\n",
    "# Calculate the median value (we can use it as a threshold to better visualize which year is higher than the mean)\n",
    "median = dfSummer[\"temperature\"].mean()\n",
    "\n",
    "# Add the median line\n",
    "plt.axhline(y=median, color='red', linestyle='--', label='Median')\n",
    "\n",
    "# Cosmetic updates\n",
    "plt.xlabel('Year')\n",
    "plt.ylabel('Maximum Temperature (°C)')\n",
    "plt.title('Maximum Temperature of Each Summer')\n",
    "plt.grid(True)\n",
    "plt.xticks(dfSummer.index.astype(int))\n",
    "\n",
    "# Print the chart\n",
    "plt.show()"
   ]
  },
  {
   "cell_type": "markdown",
   "id": "148572fa",
   "metadata": {},
   "source": [
    "# 2. Finding the average precipitation for each season of every year"
   ]
  },
  {
   "cell_type": "code",
   "execution_count": 6,
   "id": "c76da902",
   "metadata": {},
   "outputs": [
    {
     "data": {
      "text/html": [
       "<div>\n",
       "<style scoped>\n",
       "    .dataframe tbody tr th:only-of-type {\n",
       "        vertical-align: middle;\n",
       "    }\n",
       "\n",
       "    .dataframe tbody tr th {\n",
       "        vertical-align: top;\n",
       "    }\n",
       "\n",
       "    .dataframe thead th {\n",
       "        text-align: right;\n",
       "    }\n",
       "</style>\n",
       "<table border=\"1\" class=\"dataframe\">\n",
       "  <thead>\n",
       "    <tr style=\"text-align: right;\">\n",
       "      <th></th>\n",
       "      <th>year</th>\n",
       "      <th>month</th>\n",
       "      <th>precipitation</th>\n",
       "    </tr>\n",
       "  </thead>\n",
       "  <tbody>\n",
       "    <tr>\n",
       "      <th>0</th>\n",
       "      <td>2012</td>\n",
       "      <td>1</td>\n",
       "      <td>0.400000</td>\n",
       "    </tr>\n",
       "    <tr>\n",
       "      <th>1</th>\n",
       "      <td>2012</td>\n",
       "      <td>2</td>\n",
       "      <td>0.791667</td>\n",
       "    </tr>\n",
       "    <tr>\n",
       "      <th>2</th>\n",
       "      <td>2012</td>\n",
       "      <td>3</td>\n",
       "      <td>0.527273</td>\n",
       "    </tr>\n",
       "    <tr>\n",
       "      <th>3</th>\n",
       "      <td>2012</td>\n",
       "      <td>4</td>\n",
       "      <td>0.598020</td>\n",
       "    </tr>\n",
       "    <tr>\n",
       "      <th>4</th>\n",
       "      <td>2012</td>\n",
       "      <td>5</td>\n",
       "      <td>0.784946</td>\n",
       "    </tr>\n",
       "  </tbody>\n",
       "</table>\n",
       "</div>"
      ],
      "text/plain": [
       "   year  month  precipitation\n",
       "0  2012      1       0.400000\n",
       "1  2012      2       0.791667\n",
       "2  2012      3       0.527273\n",
       "3  2012      4       0.598020\n",
       "4  2012      5       0.784946"
      ]
     },
     "execution_count": 6,
     "metadata": {},
     "output_type": "execute_result"
    }
   ],
   "source": [
    "# As second analysis, we want to discover and visualize the distribution of the average precipitation for each season of every year\n",
    "# In order to partition the months in season, we first group by year-months, then merge the target months for each season\n",
    "dfPrec = dfWeather \\\n",
    "            .where(dfWeather[\"precipitation\"] > 0) \\\n",
    "            .groupby([dfWeather[\"time\"].dt.year, dfWeather[\"time\"].dt.month]) \\\n",
    "            .agg( {\"precipitation\":\"mean\"} ) \\\n",
    "            .rename_axis([\"year\", \"month\"]) \\\n",
    "            .reset_index()\n",
    "\n",
    "dfPrec.head(5)"
   ]
  },
  {
   "cell_type": "code",
   "execution_count": 7,
   "id": "44d4f7dc",
   "metadata": {},
   "outputs": [],
   "source": [
    "# We have to separate the season for each year:\n",
    "# Spring (march, april, may), Summer (june, july, august), Autumn (september, october, november), Winter (december, january, february)\n",
    "dfSpring = util.calculate_mean_prec_season(dfPrec, \"spring\")\n",
    "dfSummer = util.calculate_mean_prec_season(dfPrec, \"summer\")\n",
    "dfAutumn = util.calculate_mean_prec_season(dfPrec, \"autumn\")\n",
    "dfWinter = util.calculate_mean_prec_season(dfPrec, \"winter\")"
   ]
  },
  {
   "cell_type": "code",
   "execution_count": 8,
   "id": "b4160aef",
   "metadata": {},
   "outputs": [
    {
     "data": {
      "text/html": [
       "<div>\n",
       "<style scoped>\n",
       "    .dataframe tbody tr th:only-of-type {\n",
       "        vertical-align: middle;\n",
       "    }\n",
       "\n",
       "    .dataframe tbody tr th {\n",
       "        vertical-align: top;\n",
       "    }\n",
       "\n",
       "    .dataframe thead th {\n",
       "        text-align: right;\n",
       "    }\n",
       "</style>\n",
       "<table border=\"1\" class=\"dataframe\">\n",
       "  <thead>\n",
       "    <tr style=\"text-align: right;\">\n",
       "      <th></th>\n",
       "      <th>year</th>\n",
       "      <th>precipitation</th>\n",
       "      <th>season</th>\n",
       "    </tr>\n",
       "  </thead>\n",
       "  <tbody>\n",
       "    <tr>\n",
       "      <th>0</th>\n",
       "      <td>2012</td>\n",
       "      <td>0.636746</td>\n",
       "      <td>spring</td>\n",
       "    </tr>\n",
       "    <tr>\n",
       "      <th>0</th>\n",
       "      <td>2012</td>\n",
       "      <td>1.094096</td>\n",
       "      <td>autumn</td>\n",
       "    </tr>\n",
       "    <tr>\n",
       "      <th>0</th>\n",
       "      <td>2012</td>\n",
       "      <td>0.600815</td>\n",
       "      <td>summer</td>\n",
       "    </tr>\n",
       "    <tr>\n",
       "      <th>0</th>\n",
       "      <td>2012</td>\n",
       "      <td>0.629489</td>\n",
       "      <td>winter</td>\n",
       "    </tr>\n",
       "    <tr>\n",
       "      <th>1</th>\n",
       "      <td>2013</td>\n",
       "      <td>1.021033</td>\n",
       "      <td>autumn</td>\n",
       "    </tr>\n",
       "  </tbody>\n",
       "</table>\n",
       "</div>"
      ],
      "text/plain": [
       "   year  precipitation  season\n",
       "0  2012       0.636746  spring\n",
       "0  2012       1.094096  autumn\n",
       "0  2012       0.600815  summer\n",
       "0  2012       0.629489  winter\n",
       "1  2013       1.021033  autumn"
      ]
     },
     "execution_count": 8,
     "metadata": {},
     "output_type": "execute_result"
    }
   ],
   "source": [
    "# Merge of the all Dataframes containing data of each season\n",
    "dfFinal = pd.concat([dfSpring, dfSummer, dfAutumn, dfWinter], axis=0)\n",
    "dfFinal = dfFinal.sort_values(by = \"year\")\n",
    "\n",
    "dfFinal.head(5)"
   ]
  },
  {
   "cell_type": "code",
   "execution_count": 9,
   "id": "f2213b22",
   "metadata": {},
   "outputs": [
    {
     "data": {
      "image/png": "[encoded data removed]",
      "text/plain": [
       "<Figure size 1000x500 with 1 Axes>"
      ]
     },
     "metadata": {},
     "output_type": "display_data"
    }
   ],
   "source": [
    "# Define of years and seasons\n",
    "years = dfFinal[\"year\"].unique()\n",
    "seasons = [\"summer\", \"autumn\", \"spring\", \"winter\"]\n",
    "\n",
    "# Get the number of seasons and the width for each bar\n",
    "num_seasons = len(seasons)\n",
    "bar_width = 0.7 / num_seasons\n",
    "\n",
    "# Create a figure and axis\n",
    "fig, ax = plt.subplots(figsize=(10,5))\n",
    "\n",
    "# In order to better visualize the distribution we are going to use a bar chart\n",
    "# Plot the bars for each season in each year\n",
    "for i, season in enumerate(seasons):\n",
    "    x = [j + i * bar_width for j in range(len(years))]\n",
    "    data = dfFinal.where(dfFinal[\"season\"] == season).dropna()\n",
    "    ax.bar(x, data[\"precipitation\"], width=bar_width, label=season, align=\"center\")\n",
    "\n",
    "# Set axis labels and title\n",
    "ax.set_xlabel('Year')\n",
    "ax.set_ylabel('Precipitation (mm)')\n",
    "ax.set_title('Mean Precipitation by Year and Season')\n",
    "\n",
    "# Set x-axis tick labels as years\n",
    "ax.set_xticks(range(len(years)))\n",
    "ax.set_xticklabels(years)\n",
    "\n",
    "# Add a legend\n",
    "ax.legend()\n",
    "\n",
    "# Print the bar chart\n",
    "plt.show()"
   ]
  },
  {
   "cell_type": "markdown",
   "id": "24a6f2fd",
   "metadata": {},
   "source": [
    "# Loading"
   ]
  },
  {
   "cell_type": "code",
   "execution_count": 10,
   "id": "3fdf6efe",
   "metadata": {},
   "outputs": [],
   "source": [
    "# Now that we performed the Extraction and Transformation actions, we want to Load the data in a Postgres DB as last step of our ETL pipeline\n",
    "# Let's suppose we want to load the raw data initially obtained (dfWeather) into a table called Weather_Data,\n",
    "# and the transformed data (dfFinal)\n",
    "from database import DatabaseConnector"
   ]
  },
  {
   "cell_type": "code",
   "execution_count": 11,
   "id": "a272cf94",
   "metadata": {},
   "outputs": [
    {
     "name": "stdout",
     "output_type": "stream",
     "text": [
      "Connection successful!\n"
     ]
    }
   ],
   "source": [
    "# Defining database connection parameters\n",
    "host = 'localhost'\n",
    "port = 5432  \n",
    "database = 'weather'\n",
    "user = 'postgres'\n",
    "password = 'postgres'\n",
    "\n",
    "# Creating the object DatabaseConnector\n",
    "db = DatabaseConnector(host, port, database, user, password)\n",
    "db.connect()"
   ]
  },
  {
   "cell_type": "code",
   "execution_count": 12,
   "id": "70c1105f",
   "metadata": {},
   "outputs": [
    {
     "name": "stdout",
     "output_type": "stream",
     "text": [
      "Selected city ID: 1\n"
     ]
    }
   ],
   "source": [
    "# Given the city as input, get the id from City table\n",
    "city = 'Rome'\n",
    "idCity = db.select_id_from_city(city)\n",
    "print(f\"Selected city ID: {idCity}\")"
   ]
  },
  {
   "cell_type": "code",
   "execution_count": 13,
   "id": "5c1ba5e6",
   "metadata": {},
   "outputs": [
    {
     "data": {
      "text/html": [
       "<div>\n",
       "<style scoped>\n",
       "    .dataframe tbody tr th:only-of-type {\n",
       "        vertical-align: middle;\n",
       "    }\n",
       "\n",
       "    .dataframe tbody tr th {\n",
       "        vertical-align: top;\n",
       "    }\n",
       "\n",
       "    .dataframe thead th {\n",
       "        text-align: right;\n",
       "    }\n",
       "</style>\n",
       "<table border=\"1\" class=\"dataframe\">\n",
       "  <thead>\n",
       "    <tr style=\"text-align: right;\">\n",
       "      <th></th>\n",
       "      <th>city_id</th>\n",
       "      <th>time</th>\n",
       "      <th>temperature</th>\n",
       "      <th>precipitation</th>\n",
       "    </tr>\n",
       "  </thead>\n",
       "  <tbody>\n",
       "    <tr>\n",
       "      <th>0</th>\n",
       "      <td>1</td>\n",
       "      <td>2012-01-01 00:00:00</td>\n",
       "      <td>1.3</td>\n",
       "      <td>0.0</td>\n",
       "    </tr>\n",
       "    <tr>\n",
       "      <th>1</th>\n",
       "      <td>1</td>\n",
       "      <td>2012-01-01 01:00:00</td>\n",
       "      <td>1.1</td>\n",
       "      <td>0.0</td>\n",
       "    </tr>\n",
       "    <tr>\n",
       "      <th>2</th>\n",
       "      <td>1</td>\n",
       "      <td>2012-01-01 02:00:00</td>\n",
       "      <td>0.9</td>\n",
       "      <td>0.0</td>\n",
       "    </tr>\n",
       "  </tbody>\n",
       "</table>\n",
       "</div>"
      ],
      "text/plain": [
       "   city_id                time  temperature  precipitation\n",
       "0        1 2012-01-01 00:00:00          1.3            0.0\n",
       "1        1 2012-01-01 01:00:00          1.1            0.0\n",
       "2        1 2012-01-01 02:00:00          0.9            0.0"
      ]
     },
     "execution_count": 13,
     "metadata": {},
     "output_type": "execute_result"
    }
   ],
   "source": [
    "# In order to insert the dataframe, we first order the columns in the same position as the db table\n",
    "dfWeather.insert(0, \"city_id\", idCity)\n",
    "col = dfWeather.pop(\"time\")\n",
    "dfWeather.insert(1, \"time\", col)\n",
    "\n",
    "dfWeather.head(3)"
   ]
  },
  {
   "cell_type": "code",
   "execution_count": 14,
   "id": "c31e82a6",
   "metadata": {},
   "outputs": [
    {
     "name": "stdout",
     "output_type": "stream",
     "text": [
      "Data successfully written into Database.\n"
     ]
    }
   ],
   "source": [
    "# Insert raw data in Weather_Data table\n",
    "db.insert_data_from_dataframe(\"Weather_Data\", dfWeather)"
   ]
  },
  {
   "cell_type": "code",
   "execution_count": 15,
   "id": "83eb5f9d",
   "metadata": {},
   "outputs": [
    {
     "data": {
      "text/html": [
       "<div>\n",
       "<style scoped>\n",
       "    .dataframe tbody tr th:only-of-type {\n",
       "        vertical-align: middle;\n",
       "    }\n",
       "\n",
       "    .dataframe tbody tr th {\n",
       "        vertical-align: top;\n",
       "    }\n",
       "\n",
       "    .dataframe thead th {\n",
       "        text-align: right;\n",
       "    }\n",
       "</style>\n",
       "<table border=\"1\" class=\"dataframe\">\n",
       "  <thead>\n",
       "    <tr style=\"text-align: right;\">\n",
       "      <th></th>\n",
       "      <th>city_id</th>\n",
       "      <th>year</th>\n",
       "      <th>mean_precipitation</th>\n",
       "      <th>season_name</th>\n",
       "    </tr>\n",
       "  </thead>\n",
       "  <tbody>\n",
       "    <tr>\n",
       "      <th>0</th>\n",
       "      <td>1</td>\n",
       "      <td>2012</td>\n",
       "      <td>0.636746</td>\n",
       "      <td>spring</td>\n",
       "    </tr>\n",
       "    <tr>\n",
       "      <th>0</th>\n",
       "      <td>1</td>\n",
       "      <td>2012</td>\n",
       "      <td>1.094096</td>\n",
       "      <td>autumn</td>\n",
       "    </tr>\n",
       "    <tr>\n",
       "      <th>0</th>\n",
       "      <td>1</td>\n",
       "      <td>2012</td>\n",
       "      <td>0.600815</td>\n",
       "      <td>summer</td>\n",
       "    </tr>\n",
       "  </tbody>\n",
       "</table>\n",
       "</div>"
      ],
      "text/plain": [
       "   city_id  year  mean_precipitation season_name\n",
       "0        1  2012            0.636746      spring\n",
       "0        1  2012            1.094096      autumn\n",
       "0        1  2012            0.600815      summer"
      ]
     },
     "execution_count": 15,
     "metadata": {},
     "output_type": "execute_result"
    }
   ],
   "source": [
    "# In order to insert the dataframe, we first order the columns in the same position as the db table\n",
    "dfFinal.insert(0, \"city_id\", idCity)\n",
    "dfFinal.rename(columns={'precipitation':'mean_precipitation', 'season':'season_name'}, inplace=True)\n",
    "\n",
    "dfFinal.head(3)"
   ]
  },
  {
   "cell_type": "code",
   "execution_count": 16,
   "id": "9f39d4a5",
   "metadata": {},
   "outputs": [
    {
     "name": "stdout",
     "output_type": "stream",
     "text": [
      "Data successfully written into Database.\n"
     ]
    }
   ],
   "source": [
    "# Insert data in Season table\n",
    "db.insert_data_from_dataframe(\"Season\", dfFinal)"
   ]
  },
  {
   "cell_type": "code",
   "execution_count": 17,
   "id": "ee5696c9",
   "metadata": {},
   "outputs": [
    {
     "name": "stdout",
     "output_type": "stream",
     "text": [
      "Connection closed.\n"
     ]
    }
   ],
   "source": [
    "db.disconnect()"
   ]
  }
 ],
 "metadata": {
  "kernelspec": {
   "display_name": "Python 3 (ipykernel)",
   "language": "python",
   "name": "python3"
  },
  "language_info": {
   "codemirror_mode": {
    "name": "ipython",
    "version": 3
   },
   "file_extension": ".py",
   "mimetype": "text/x-python",
   "name": "python",
   "nbconvert_exporter": "python",
   "pygments_lexer": "ipython3",
   "version": "3.9.13"
  }
 },
 "nbformat": 4,
 "nbformat_minor": 5
}
